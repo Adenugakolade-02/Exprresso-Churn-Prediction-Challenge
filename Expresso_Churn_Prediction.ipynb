{
  "nbformat": 4,
  "nbformat_minor": 0,
  "metadata": {
    "colab": {
      "name": "Expresso Churn Prediction.ipynb",
      "provenance": [],
      "collapsed_sections": [],
      "include_colab_link": true
    },
    "kernelspec": {
      "display_name": "Python 3",
      "language": "python",
      "name": "python3"
    },
    "language_info": {
      "codemirror_mode": {
        "name": "ipython",
        "version": 3
      },
      "file_extension": ".py",
      "mimetype": "text/x-python",
      "name": "python",
      "nbconvert_exporter": "python",
      "pygments_lexer": "ipython3",
      "version": "3.7.6"
    }
  },
  "cells": [
    {
      "cell_type": "markdown",
      "metadata": {
        "id": "view-in-github",
        "colab_type": "text"
      },
      "source": [
        "<a href=\"https://colab.research.google.com/github/Paulooh007/Exprresso-Churn-Prediction-Challenge/blob/master/Expresso_Churn_Prediction.ipynb\" target=\"_parent\"><img src=\"https://colab.research.google.com/assets/colab-badge.svg\" alt=\"Open In Colab\"/></a>"
      ]
    },
    {
      "cell_type": "markdown",
      "metadata": {
        "id": "N6amOAAAtO88",
        "colab_type": "text"
      },
      "source": [
        "### Importing libraries"
      ]
    },
    {
      "cell_type": "code",
      "metadata": {
        "id": "rcz3LHgRtbe4",
        "colab_type": "code",
        "colab": {
          "base_uri": "https://localhost:8080/",
          "height": 118
        },
        "outputId": "3d59383b-d430-455e-a3f1-06dad95b0305"
      },
      "source": [
        "from google.colab import drive\n",
        "drive.mount('/content/drive')"
      ],
      "execution_count": 1,
      "outputs": [
        {
          "output_type": "stream",
          "text": [
            "Go to this URL in a browser: https://accounts.google.com/o/oauth2/auth?client_id=947318989803-6bn6qk8qdgf4n4g3pfee6491hc0brc4i.apps.googleusercontent.com&redirect_uri=urn%3aietf%3awg%3aoauth%3a2.0%3aoob&scope=email%20https%3a%2f%2fwww.googleapis.com%2fauth%2fdocs.test%20https%3a%2f%2fwww.googleapis.com%2fauth%2fdrive%20https%3a%2f%2fwww.googleapis.com%2fauth%2fdrive.photos.readonly%20https%3a%2f%2fwww.googleapis.com%2fauth%2fpeopleapi.readonly&response_type=code\n",
            "\n",
            "Enter your authorization code:\n",
            "··········\n",
            "Mounted at /content/drive\n"
          ],
          "name": "stdout"
        }
      ]
    },
    {
      "cell_type": "code",
      "metadata": {
        "colab_type": "code",
        "id": "DlJtjU7d3pID",
        "colab": {
          "base_uri": "https://localhost:8080/",
          "height": 50
        },
        "outputId": "34e65918-9b05-41e3-84bf-664003828556"
      },
      "source": [
        "import numpy as np\n",
        "import pandas as pd\n",
        "import seaborn as sns\n",
        "import matplotlib.pyplot as plt"
      ],
      "execution_count": 2,
      "outputs": [
        {
          "output_type": "stream",
          "text": [
            "/usr/local/lib/python3.6/dist-packages/statsmodels/tools/_testing.py:19: FutureWarning: pandas.util.testing is deprecated. Use the functions in the public API at pandas.testing instead.\n",
            "  import pandas.util.testing as tm\n"
          ],
          "name": "stderr"
        }
      ]
    },
    {
      "cell_type": "code",
      "metadata": {
        "colab_type": "code",
        "id": "f_gyIKganDVR",
        "colab": {}
      },
      "source": [
        "import warnings\n",
        "warnings.simplefilter('ignore')"
      ],
      "execution_count": 3,
      "outputs": []
    },
    {
      "cell_type": "markdown",
      "metadata": {
        "id": "WnX5IfLKtO99",
        "colab_type": "text"
      },
      "source": [
        "### Read-In Data"
      ]
    },
    {
      "cell_type": "code",
      "metadata": {
        "id": "cujhZ__6t_nE",
        "colab_type": "code",
        "colab": {}
      },
      "source": [
        "path = '/content/drive/My Drive/ExpressoChurnPredictionChallenge/'"
      ],
      "execution_count": 4,
      "outputs": []
    },
    {
      "cell_type": "code",
      "metadata": {
        "colab_type": "code",
        "id": "YWBfM3DX3dCN",
        "colab": {}
      },
      "source": [
        "train = pd.read_csv(path + 'Train.csv')\n",
        "test = pd.read_csv(path + 'Test.csv')\n",
        "\n",
        "sub = pd.read_csv(path + 'sample_submission.csv')"
      ],
      "execution_count": 5,
      "outputs": []
    },
    {
      "cell_type": "code",
      "metadata": {
        "id": "UZXFmAjLtO-S",
        "colab_type": "code",
        "colab": {
          "base_uri": "https://localhost:8080/",
          "height": 202
        },
        "outputId": "294bfd00-1905-460b-e89a-d9066ce8f62a"
      },
      "source": [
        "train.sample(3)"
      ],
      "execution_count": 6,
      "outputs": [
        {
          "output_type": "execute_result",
          "data": {
            "text/html": [
              "<div>\n",
              "<style scoped>\n",
              "    .dataframe tbody tr th:only-of-type {\n",
              "        vertical-align: middle;\n",
              "    }\n",
              "\n",
              "    .dataframe tbody tr th {\n",
              "        vertical-align: top;\n",
              "    }\n",
              "\n",
              "    .dataframe thead th {\n",
              "        text-align: right;\n",
              "    }\n",
              "</style>\n",
              "<table border=\"1\" class=\"dataframe\">\n",
              "  <thead>\n",
              "    <tr style=\"text-align: right;\">\n",
              "      <th></th>\n",
              "      <th>user_id</th>\n",
              "      <th>REGION</th>\n",
              "      <th>TENURE</th>\n",
              "      <th>MONTANT</th>\n",
              "      <th>FREQUENCE_RECH</th>\n",
              "      <th>REVENUE</th>\n",
              "      <th>ARPU_SEGMENT</th>\n",
              "      <th>FREQUENCE</th>\n",
              "      <th>DATA_VOLUME</th>\n",
              "      <th>ON_NET</th>\n",
              "      <th>ORANGE</th>\n",
              "      <th>TIGO</th>\n",
              "      <th>ZONE1</th>\n",
              "      <th>ZONE2</th>\n",
              "      <th>MRG</th>\n",
              "      <th>REGULARITY</th>\n",
              "      <th>TOP_PACK</th>\n",
              "      <th>FREQ_TOP_PACK</th>\n",
              "      <th>CHURN</th>\n",
              "    </tr>\n",
              "  </thead>\n",
              "  <tbody>\n",
              "    <tr>\n",
              "      <th>340203</th>\n",
              "      <td>1862e45a970594b991129b860305c143298cd26d</td>\n",
              "      <td>THIES</td>\n",
              "      <td>K &gt; 24 month</td>\n",
              "      <td>9700.0</td>\n",
              "      <td>14.0</td>\n",
              "      <td>9701.0</td>\n",
              "      <td>3234.0</td>\n",
              "      <td>25.0</td>\n",
              "      <td>6995.0</td>\n",
              "      <td>14.0</td>\n",
              "      <td>127.0</td>\n",
              "      <td>4.0</td>\n",
              "      <td>NaN</td>\n",
              "      <td>NaN</td>\n",
              "      <td>NO</td>\n",
              "      <td>61</td>\n",
              "      <td>All-net 500F=2000F;5d</td>\n",
              "      <td>6.0</td>\n",
              "      <td>0</td>\n",
              "    </tr>\n",
              "    <tr>\n",
              "      <th>88723</th>\n",
              "      <td>92868f17b067ec37f48f50ee943d99a3f8a0c2df</td>\n",
              "      <td>NaN</td>\n",
              "      <td>K &gt; 24 month</td>\n",
              "      <td>NaN</td>\n",
              "      <td>NaN</td>\n",
              "      <td>NaN</td>\n",
              "      <td>NaN</td>\n",
              "      <td>NaN</td>\n",
              "      <td>NaN</td>\n",
              "      <td>NaN</td>\n",
              "      <td>NaN</td>\n",
              "      <td>NaN</td>\n",
              "      <td>NaN</td>\n",
              "      <td>NaN</td>\n",
              "      <td>NO</td>\n",
              "      <td>1</td>\n",
              "      <td>NaN</td>\n",
              "      <td>NaN</td>\n",
              "      <td>1</td>\n",
              "    </tr>\n",
              "    <tr>\n",
              "      <th>303426</th>\n",
              "      <td>194a18e6279cb9c0b34ca9980b9fec80b74c9fb0</td>\n",
              "      <td>DIOURBEL</td>\n",
              "      <td>K &gt; 24 month</td>\n",
              "      <td>900.0</td>\n",
              "      <td>3.0</td>\n",
              "      <td>900.0</td>\n",
              "      <td>300.0</td>\n",
              "      <td>5.0</td>\n",
              "      <td>2.0</td>\n",
              "      <td>56.0</td>\n",
              "      <td>NaN</td>\n",
              "      <td>NaN</td>\n",
              "      <td>NaN</td>\n",
              "      <td>NaN</td>\n",
              "      <td>NO</td>\n",
              "      <td>55</td>\n",
              "      <td>IVR Echat_Daily_50F</td>\n",
              "      <td>2.0</td>\n",
              "      <td>0</td>\n",
              "    </tr>\n",
              "  </tbody>\n",
              "</table>\n",
              "</div>"
            ],
            "text/plain": [
              "                                         user_id  ... CHURN\n",
              "340203  1862e45a970594b991129b860305c143298cd26d  ...     0\n",
              "88723   92868f17b067ec37f48f50ee943d99a3f8a0c2df  ...     1\n",
              "303426  194a18e6279cb9c0b34ca9980b9fec80b74c9fb0  ...     0\n",
              "\n",
              "[3 rows x 19 columns]"
            ]
          },
          "metadata": {
            "tags": []
          },
          "execution_count": 6
        }
      ]
    },
    {
      "cell_type": "markdown",
      "metadata": {
        "colab_type": "text",
        "id": "QisR7c9MuoUr"
      },
      "source": [
        "## Features Engineering and Missing values\n",
        "\n",
        "- Simple feature interaction (addition, multiplication etc of features) using important features gotten from feature importance plot of my baseline model \n",
        "- Created more features by grouping all the numeric features by REVENUE and TENURE then performing some aggregation (mean and sum)\n",
        "- Using both Label encoding and One hot encoding for REVENUE and TENURE\n",
        "\n",
        "\n",
        "- Misssing values in numerical features were filled using a number that doesnt appear in the data (-999)\n",
        "- Categorical features were treated as a different category ('NONE')"
      ]
    },
    {
      "cell_type": "code",
      "metadata": {
        "id": "B14dAOM5tO-y",
        "colab_type": "code",
        "colab": {}
      },
      "source": [
        "#Combining train and test to avoid repetition\n",
        "test['CHURN'] = 'test'\n",
        "data = pd.concat([train, test]).reset_index(drop = True)"
      ],
      "execution_count": 7,
      "outputs": []
    },
    {
      "cell_type": "code",
      "metadata": {
        "colab_type": "code",
        "id": "_1800AQPs6lv",
        "colab": {}
      },
      "source": [
        "mapper = { \"K > 24 month\": 24, \n",
        "          \"I 18-21 month\": 18, \n",
        "          \"G 12-15 month\": 12, \n",
        "          \"H 15-18 month\": 15, \n",
        "          \"J 21-24 month\": 21, \n",
        "          \"F 9-12 month\": 9, \n",
        "          \"D 3-6 month\": 3, \n",
        "          \"E 6-9 month\": 6   }\n",
        "\n",
        "data['TENURE_LE'] = data['TENURE'].replace(mapper)"
      ],
      "execution_count": 8,
      "outputs": []
    },
    {
      "cell_type": "code",
      "metadata": {
        "colab_type": "code",
        "id": "GTdZ4FCgvbnW",
        "colab": {}
      },
      "source": [
        "data['TENURE/REGULARITY'] = data['TENURE_LE'] / data['REGULARITY']\n",
        "data['TENURE_REGULARITY'] = data['TENURE_LE'] * data['REGULARITY']\n",
        "data['REVENUE-MONTANT'] = data['REVENUE'] - data['MONTANT']\n",
        "data['REVENUE/MONTANT'] = data['REVENUE'] / data['MONTANT']\n",
        "data['TENURE/FREQUENCE_RECH'] = data['TENURE_LE'] / data['FREQUENCE_RECH']"
      ],
      "execution_count": 9,
      "outputs": []
    },
    {
      "cell_type": "code",
      "metadata": {
        "id": "DPzy6ohJtO_p",
        "colab_type": "code",
        "colab": {}
      },
      "source": [
        ""
      ],
      "execution_count": 9,
      "outputs": []
    },
    {
      "cell_type": "markdown",
      "metadata": {
        "id": "PI1a2k6DtO_5",
        "colab_type": "text"
      },
      "source": [
        "### Missing Values"
      ]
    },
    {
      "cell_type": "code",
      "metadata": {
        "id": "AzkljaH5tO_7",
        "colab_type": "code",
        "colab": {}
      },
      "source": [
        "cat_feat = data.select_dtypes(exclude = np.number).columns\n",
        "num_feat = data.select_dtypes(exclude = object).columns"
      ],
      "execution_count": 10,
      "outputs": []
    },
    {
      "cell_type": "code",
      "metadata": {
        "scrolled": true,
        "id": "WQLZgXcetPAQ",
        "colab_type": "code",
        "colab": {
          "base_uri": "https://localhost:8080/",
          "height": 115
        },
        "outputId": "62f7d608-95ef-46bf-d9a2-5ea278a6958e"
      },
      "source": [
        "num_feat"
      ],
      "execution_count": 11,
      "outputs": [
        {
          "output_type": "execute_result",
          "data": {
            "text/plain": [
              "Index(['MONTANT', 'FREQUENCE_RECH', 'REVENUE', 'ARPU_SEGMENT', 'FREQUENCE',\n",
              "       'DATA_VOLUME', 'ON_NET', 'ORANGE', 'TIGO', 'ZONE1', 'ZONE2',\n",
              "       'REGULARITY', 'FREQ_TOP_PACK', 'TENURE_LE', 'TENURE/REGULARITY',\n",
              "       'TENURE_REGULARITY', 'REVENUE-MONTANT', 'REVENUE/MONTANT',\n",
              "       'TENURE/FREQUENCE_RECH'],\n",
              "      dtype='object')"
            ]
          },
          "metadata": {
            "tags": []
          },
          "execution_count": 11
        }
      ]
    },
    {
      "cell_type": "code",
      "metadata": {
        "id": "Gr9zRS3qtPAf",
        "colab_type": "code",
        "colab": {}
      },
      "source": [
        "for col in num_feat:\n",
        "    data[col].fillna(-999, inplace = True)   "
      ],
      "execution_count": 12,
      "outputs": []
    },
    {
      "cell_type": "code",
      "metadata": {
        "id": "QmdNZ-M4tPA0",
        "colab_type": "code",
        "colab": {}
      },
      "source": [
        "for col in cat_feat:\n",
        "    data[col].fillna('NONE', inplace = True)"
      ],
      "execution_count": 13,
      "outputs": []
    },
    {
      "cell_type": "markdown",
      "metadata": {
        "id": "kaZ2BfzctPBF",
        "colab_type": "text"
      },
      "source": [
        "### Groupby features"
      ]
    },
    {
      "cell_type": "code",
      "metadata": {
        "id": "G3AjUchytPBJ",
        "colab_type": "code",
        "colab": {}
      },
      "source": [
        "for col in num_feat:\n",
        "    data[col + '_mean_on_reg'] = data[col].groupby(data['REGION']).transform('mean')\n",
        "    data[col + '_mean_on_ten'] = data[col].groupby(data['TENURE']).transform('mean')\n",
        "    \n",
        "    data[col + '_sum_on_reg'] = data[col].groupby(data['REGION']).transform('sum')\n",
        "    data[col + '_sum_on_ten'] = data[col].groupby(data['TENURE']).transform('sum')"
      ],
      "execution_count": 15,
      "outputs": []
    },
    {
      "cell_type": "code",
      "metadata": {
        "colab_type": "code",
        "id": "zq3cu0efyLUt",
        "colab": {}
      },
      "source": [
        "# data.info()"
      ],
      "execution_count": 16,
      "outputs": []
    },
    {
      "cell_type": "code",
      "metadata": {
        "id": "m7nFV4THtPBz",
        "colab_type": "code",
        "colab": {}
      },
      "source": [
        "## Label encoding and One hot encoding\n",
        "data['REGION_LE'] = pd.factorize(data['REGION'])[0]\n",
        "\n",
        "data['TOP_PACK_LE'] = pd.factorize(data['TOP_PACK'])[0]\n",
        "\n",
        "data = pd.get_dummies(columns=['REGION', 'TENURE'], data = data)"
      ],
      "execution_count": 17,
      "outputs": []
    },
    {
      "cell_type": "code",
      "metadata": {
        "id": "LVGlYQ1wtPCA",
        "colab_type": "code",
        "colab": {}
      },
      "source": [
        ""
      ],
      "execution_count": 17,
      "outputs": []
    },
    {
      "cell_type": "markdown",
      "metadata": {
        "id": "YhzHhMontPCO",
        "colab_type": "text"
      },
      "source": [
        "### Feaature Selection"
      ]
    },
    {
      "cell_type": "code",
      "metadata": {
        "id": "8QVCHIH9tPCS",
        "colab_type": "code",
        "colab": {}
      },
      "source": [
        "## Splitting back into train and test\n",
        "\n",
        "train_df = data.loc[(data['CHURN'] != 'test')].reset_index(drop = True)\n",
        "test_df = data.loc[(data['CHURN'] == 'test')].reset_index(drop = True)"
      ],
      "execution_count": 18,
      "outputs": []
    },
    {
      "cell_type": "code",
      "metadata": {
        "id": "OHn40p8BtPCw",
        "colab_type": "code",
        "colab": {}
      },
      "source": [
        "train_df['CHURN'] = train_df['CHURN'].apply(int)"
      ],
      "execution_count": 19,
      "outputs": []
    },
    {
      "cell_type": "code",
      "metadata": {
        "colab_type": "code",
        "id": "OPBJoKUC7vWy",
        "colab": {}
      },
      "source": [
        "target = 'CHURN'\n",
        "features = train_df.select_dtypes(include=np.number).columns.difference([target])"
      ],
      "execution_count": 20,
      "outputs": []
    },
    {
      "cell_type": "code",
      "metadata": {
        "id": "p6BNN_VCtPDT",
        "colab_type": "code",
        "colab": {
          "base_uri": "https://localhost:8080/",
          "height": 163
        },
        "outputId": "3e84da32-20d5-48da-a363-7f39eb84b4cc"
      },
      "source": [
        "features"
      ],
      "execution_count": 21,
      "outputs": [
        {
          "output_type": "execute_result",
          "data": {
            "text/plain": [
              "Index(['ARPU_SEGMENT', 'ARPU_SEGMENT_mean_on_reg', 'ARPU_SEGMENT_mean_on_ten',\n",
              "       'ARPU_SEGMENT_sum_on_reg', 'ARPU_SEGMENT_sum_on_ten', 'DATA_VOLUME',\n",
              "       'DATA_VOLUME_mean_on_reg', 'DATA_VOLUME_mean_on_ten',\n",
              "       'DATA_VOLUME_sum_on_reg', 'DATA_VOLUME_sum_on_ten',\n",
              "       ...\n",
              "       'ZONE1', 'ZONE1_mean_on_reg', 'ZONE1_mean_on_ten', 'ZONE1_sum_on_reg',\n",
              "       'ZONE1_sum_on_ten', 'ZONE2', 'ZONE2_mean_on_reg', 'ZONE2_mean_on_ten',\n",
              "       'ZONE2_sum_on_reg', 'ZONE2_sum_on_ten'],\n",
              "      dtype='object', length=120)"
            ]
          },
          "metadata": {
            "tags": []
          },
          "execution_count": 21
        }
      ]
    },
    {
      "cell_type": "code",
      "metadata": {
        "id": "KMapPBV4uhi3",
        "colab_type": "code",
        "colab": {
          "base_uri": "https://localhost:8080/",
          "height": 33
        },
        "outputId": "fb68eda1-0552-4ddb-eedd-6037671340f6"
      },
      "source": [
        "'CHURN' in features"
      ],
      "execution_count": 22,
      "outputs": [
        {
          "output_type": "execute_result",
          "data": {
            "text/plain": [
              "False"
            ]
          },
          "metadata": {
            "tags": []
          },
          "execution_count": 22
        }
      ]
    },
    {
      "cell_type": "markdown",
      "metadata": {
        "colab_type": "text",
        "id": "wisFzp-1DGO3"
      },
      "source": [
        "# Training"
      ]
    },
    {
      "cell_type": "code",
      "metadata": {
        "id": "7U3MzyHLtPDk",
        "colab_type": "code",
        "colab": {
          "base_uri": "https://localhost:8080/",
          "height": 33
        },
        "outputId": "8233cf90-9f2c-441b-fe1b-36b5c1fe5ea9"
      },
      "source": [
        "train_df.shape\n",
        "# 124 Features in total"
      ],
      "execution_count": 23,
      "outputs": [
        {
          "output_type": "execute_result",
          "data": {
            "text/plain": [
              "(400000, 124)"
            ]
          },
          "metadata": {
            "tags": []
          },
          "execution_count": 23
        }
      ]
    },
    {
      "cell_type": "code",
      "metadata": {
        "colab_type": "code",
        "id": "JSQHlZK02g-P",
        "colab": {}
      },
      "source": [
        "seed = 2020 #Setting seed to ensure result is reproducable"
      ],
      "execution_count": 24,
      "outputs": []
    },
    {
      "cell_type": "code",
      "metadata": {
        "id": "aap1JYchuynW",
        "colab_type": "code",
        "colab": {
          "base_uri": "https://localhost:8080/",
          "height": 33
        },
        "outputId": "d70581fc-2709-4850-da37-f4c7c6640add"
      },
      "source": [
        "pip install --quiet catboost"
      ],
      "execution_count": 26,
      "outputs": [
        {
          "output_type": "stream",
          "text": [
            "\u001b[K     |████████████████████████████████| 65.9MB 57kB/s \n",
            "\u001b[?25h"
          ],
          "name": "stdout"
        }
      ]
    },
    {
      "cell_type": "code",
      "metadata": {
        "colab_type": "code",
        "id": "oaukNCNDDIX_",
        "colab": {}
      },
      "source": [
        "from catboost import CatBoostClassifier\n",
        "from sklearn.model_selection import StratifiedKFold\n",
        "from sklearn.metrics import log_loss\n",
        "\n",
        "\n",
        "\n",
        "def eval_metric(y, pred):\n",
        "    return log_loss(y, pred, labels=[0, 1])\n",
        "\n",
        "k = 5\n",
        "kf = StratifiedKFold(k)\n",
        "\n",
        "params = {\n",
        "    'n_estimators': 4000,\n",
        "    'learning_rate': 0.01,\n",
        "    'objective': 'Logloss',\n",
        "    'rsm': 0.7,\n",
        "    'random_seed': seed,\n",
        "    'early_stopping_rounds': 300,\n",
        "    'use_best_model': True\n",
        "}"
      ],
      "execution_count": 31,
      "outputs": []
    },
    {
      "cell_type": "code",
      "metadata": {
        "id": "cDli4JN_tPEK",
        "colab_type": "code",
        "colab": {}
      },
      "source": [
        ""
      ],
      "execution_count": 27,
      "outputs": []
    },
    {
      "cell_type": "markdown",
      "metadata": {
        "id": "hv1EG92YtPEZ",
        "colab_type": "text"
      },
      "source": [
        "### Out of fold Cross validation\n",
        "- Uncomment the code in the cell below to run, training takes a while"
      ]
    },
    {
      "cell_type": "code",
      "metadata": {
        "colab_type": "code",
        "id": "oustNFy-DIU3",
        "colab": {}
      },
      "source": [
        "# loss = 0\n",
        "# test_oofs = []\n",
        "\n",
        "# for i, (tr_idx, vr_idx) in enumerate(kf.split(train_df, train_df[target])):\n",
        "#   xtrain, ytrain = train_df.loc[tr_idx, features], train_df.loc[tr_idx, target]\n",
        "#   xval, yval = train_df.loc[vr_idx, features], train_df.loc[vr_idx, target]\n",
        "\n",
        "#   # training and validation\n",
        "#   model = CatBoostClassifier(**params)\n",
        "#   model.fit(xtrain, ytrain, eval_set=[(xval,yval)], verbose=100)\n",
        "#   pred = model.predict_proba(xval)[:, -1]\n",
        "\n",
        "#   #predicting on test set\n",
        "#   predictions = model.predict_proba(test_df[features])[:, -1]\n",
        "#   score = eval_metric(yval, pred)\n",
        "#   #\n",
        "#   loss += score/k\n",
        "#   test_oofs.append(predictions)\n",
        "\n",
        "#   print('Fold {} : {}'.format(i, score))\n",
        "\n",
        "# print()\n",
        "# print()\n",
        "# print('Avg log : ', loss)"
      ],
      "execution_count": 33,
      "outputs": []
    },
    {
      "cell_type": "code",
      "metadata": {
        "id": "ZzzcFVlEtPEu",
        "colab_type": "code",
        "colab": {}
      },
      "source": [
        ""
      ],
      "execution_count": null,
      "outputs": []
    },
    {
      "cell_type": "markdown",
      "metadata": {
        "id": "Z8creEkFtPE6",
        "colab_type": "text"
      },
      "source": [
        "### Feature Importance Plot"
      ]
    },
    {
      "cell_type": "code",
      "metadata": {
        "id": "Y9z5fgyItPE8",
        "colab_type": "code",
        "colab": {},
        "outputId": "85121fad-3c30-488f-9c94-4d6e53ba3242"
      },
      "source": [
        "feature_importance_df = pd.DataFrame(model.feature_importances_, columns=['importance'])\n",
        "feature_importance_df['feature'] = train_df[features].columns\n",
        "\n",
        "plt.figure(figsize=(20, 12));\n",
        "sns.barplot(x=\"importance\", y=\"feature\", data=feature_importance_df.sort_values(by = ['importance'], ascending = False).head(50))\n",
        "plt.title('CatboostClassifier features importance (top 50):');"
      ],
      "execution_count": null,
      "outputs": [
        {
          "output_type": "display_data",
          "data": {
            "image/png": "[encoded data removed]",
            "text/plain": [
              "<Figure size 864x432 with 1 Axes>"
            ]
          },
          "metadata": {
            "tags": [],
            "needs_background": "light"
          }
        }
      ]
    },
    {
      "cell_type": "markdown",
      "metadata": {
        "id": "I2vL-WV21yuM",
        "colab_type": "text"
      },
      "source": [
        "- It turned out most of the engineered really helped"
      ]
    },
    {
      "cell_type": "markdown",
      "metadata": {
        "colab_type": "text",
        "id": "g1uFGbIyDJXP"
      },
      "source": [
        "# Prediction"
      ]
    },
    {
      "cell_type": "code",
      "metadata": {
        "colab_type": "code",
        "id": "KVt21vzDDLO8",
        "colab": {}
      },
      "source": [
        "sub[target] = np.mean(test_oofs, axis=0)  #taking the mean of the out of fold predictions on the test set"
      ],
      "execution_count": null,
      "outputs": []
    },
    {
      "cell_type": "code",
      "metadata": {
        "colab_type": "code",
        "id": "O-xY7imuDLMD",
        "colab": {
          "base_uri": "https://localhost:8080/",
          "height": 202
        },
        "outputId": "dc74bc2b-c25f-48c1-b79c-2ddbf2f388e0"
      },
      "source": [
        "sub.describe()"
      ],
      "execution_count": null,
      "outputs": [
        {
          "output_type": "execute_result",
          "data": {
            "text/html": [
              "<div>\n",
              "<style scoped>\n",
              "    .dataframe tbody tr th:only-of-type {\n",
              "        vertical-align: middle;\n",
              "    }\n",
              "\n",
              "    .dataframe tbody tr th {\n",
              "        vertical-align: top;\n",
              "    }\n",
              "\n",
              "    .dataframe thead th {\n",
              "        text-align: right;\n",
              "    }\n",
              "</style>\n",
              "<table border=\"1\" class=\"dataframe\">\n",
              "  <thead>\n",
              "    <tr style=\"text-align: right;\">\n",
              "      <th></th>\n",
              "      <th>user_id</th>\n",
              "      <th>CHURN</th>\n",
              "    </tr>\n",
              "  </thead>\n",
              "  <tbody>\n",
              "    <tr>\n",
              "      <th>0</th>\n",
              "      <td>af900d87e73b7ff6509d2203df4704a98aa5f2a6</td>\n",
              "      <td>0.783745</td>\n",
              "    </tr>\n",
              "    <tr>\n",
              "      <th>1</th>\n",
              "      <td>5335efd940280b82143272275637d1e65d37eadb</td>\n",
              "      <td>0.661786</td>\n",
              "    </tr>\n",
              "    <tr>\n",
              "      <th>2</th>\n",
              "      <td>a581f4fa08677c26f83f643248c667e241043086</td>\n",
              "      <td>0.140750</td>\n",
              "    </tr>\n",
              "    <tr>\n",
              "      <th>3</th>\n",
              "      <td>64f67177d0775262b8087a9e2e3b8061b6324ae6</td>\n",
              "      <td>0.000880</td>\n",
              "    </tr>\n",
              "    <tr>\n",
              "      <th>4</th>\n",
              "      <td>0d6009a4594c4be22449b8d9cc01a0bcea98faea</td>\n",
              "      <td>0.000155</td>\n",
              "    </tr>\n",
              "  </tbody>\n",
              "</table>\n",
              "</div>"
            ],
            "text/plain": [
              "                                    user_id     CHURN\n",
              "0  af900d87e73b7ff6509d2203df4704a98aa5f2a6  0.783745\n",
              "1  5335efd940280b82143272275637d1e65d37eadb  0.661786\n",
              "2  a581f4fa08677c26f83f643248c667e241043086  0.140750\n",
              "3  64f67177d0775262b8087a9e2e3b8061b6324ae6  0.000880\n",
              "4  0d6009a4594c4be22449b8d9cc01a0bcea98faea  0.000155"
            ]
          },
          "metadata": {
            "tags": []
          },
          "execution_count": 43
        }
      ]
    },
    {
      "cell_type": "markdown",
      "metadata": {
        "colab_type": "text",
        "id": "2jKPLlI0DMMF"
      },
      "source": [
        "# Submission"
      ]
    },
    {
      "cell_type": "code",
      "metadata": {
        "colab_type": "code",
        "id": "9YmFOglRDOpU",
        "colab": {}
      },
      "source": [
        "sub.to_csv('submission.csv', index = False)"
      ],
      "execution_count": null,
      "outputs": []
    },
    {
      "cell_type": "markdown",
      "metadata": {
        "id": "rsdWlGz02MgH",
        "colab_type": "text"
      },
      "source": [
        "- My best submission on the leaderboard was a blend of two other predictions, gotten from models trainded on different sets of features with slightly different parameters but the same catboost algorithm"
      ]
    },
    {
      "cell_type": "code",
      "metadata": {
        "id": "JPdJCgPCtPGE",
        "colab_type": "code",
        "colab": {}
      },
      "source": [
        ""
      ],
      "execution_count": null,
      "outputs": []
    }
  ]
}